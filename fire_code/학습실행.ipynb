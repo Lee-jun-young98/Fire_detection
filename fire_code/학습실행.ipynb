{
 "cells": [
  {
   "cell_type": "code",
   "execution_count": 1,
   "id": "d6dee268",
   "metadata": {},
   "outputs": [
    {
     "name": "stdout",
     "output_type": "stream",
     "text": [
      "D:\\yolov5-master\\yolov5-master\n"
     ]
    }
   ],
   "source": [
    "%cd \"D:\\yolov5-master\\yolov5-master\""
   ]
  },
  {
   "cell_type": "code",
   "execution_count": 2,
   "id": "0540e988",
   "metadata": {},
   "outputs": [],
   "source": [
    "import os\n",
    "\n",
    "os.getcwd()\n",
    "os.environ[\"KMP_DUPLICATE_LIB_OK\"]=\"TRUE\""
   ]
  },
  {
   "cell_type": "markdown",
   "id": "00f7afe3",
   "metadata": {},
   "source": [
    "# 각 yolov5 알고리즘에서 속도와 정확도 비교\n",
    "- batch 32 epochs 10"
   ]
  },
  {
   "cell_type": "code",
   "execution_count": 7,
   "id": "c110a675",
   "metadata": {},
   "outputs": [
    {
     "name": "stdout",
     "output_type": "stream",
     "text": [
      "^C\n"
     ]
    }
   ],
   "source": [
    "# yolov5n 학습\n",
    "python train.py --img 640 --batch 32 --epochs 10 --data ./data/coco128.yaml --cfg ./models/yolov5n.yaml --name fire_yolov5n"
   ]
  },
  {
   "cell_type": "code",
   "execution_count": null,
   "id": "a1eba4ed",
   "metadata": {},
   "outputs": [],
   "source": [
    "# yolov5s 학습\n",
    "python train.py --img 640 --batch 32 --epochs 10 --data ./data/coco128.yaml --cfg ./models/yolov5s.yaml --name fire_yolov5s"
   ]
  },
  {
   "cell_type": "code",
   "execution_count": null,
   "id": "8299b5a5",
   "metadata": {},
   "outputs": [],
   "source": [
    "# yolov5m 학습\n",
    "python train.py --img 640 --batch 32 --epochs 10 --data ./data/coco128.yaml --cfg ./models/yolov5m.yaml --name fire_yolov5m"
   ]
  },
  {
   "cell_type": "code",
   "execution_count": null,
   "id": "7c636740",
   "metadata": {},
   "outputs": [],
   "source": [
    "# yolov5l 학습\n",
    "python train.py --img 640 --batch 32 --epochs 10 --data ./data/coco128.yaml --cfg ./models/yolov5l.yaml --name fire_yolov5l"
   ]
  },
  {
   "cell_type": "markdown",
   "id": "f4a04bf1",
   "metadata": {},
   "source": [
    "# 각 yolov5 알고리즘에서 속도와 정확도 비교\n",
    "- batch 32 epochs 100"
   ]
  },
  {
   "cell_type": "code",
   "execution_count": null,
   "id": "44304d27",
   "metadata": {},
   "outputs": [],
   "source": [
    "python train.py --img 640 --batch 32 --epochs 100 --data ./data/coco128.yaml --cfg ./models/yolov5n.yaml --name fire_yolov5n"
   ]
  },
  {
   "cell_type": "code",
   "execution_count": null,
   "id": "b2aa3cb2",
   "metadata": {},
   "outputs": [],
   "source": [
    "python train.py --img 640 --batch 32 --epochs 100 --data ./data/coco128.yaml --cfg ./models/yolov5s.yaml --name fire_yolov5s"
   ]
  },
  {
   "cell_type": "code",
   "execution_count": null,
   "id": "56c923c8",
   "metadata": {},
   "outputs": [],
   "source": [
    "python train.py --img 640 --batch 32 --epochs 100 --data ./data/coco128.yaml --cfg ./models/yolov5m.yaml --name fire_yolov5m"
   ]
  },
  {
   "cell_type": "code",
   "execution_count": null,
   "id": "04b451ea",
   "metadata": {},
   "outputs": [],
   "source": [
    "python train.py --img 640 --batch 32 --epochs 100 --data ./data/coco128.yaml --cfg ./models/yolov5l.yaml --name fire_yolov5l"
   ]
  },
  {
   "cell_type": "markdown",
   "id": "e172dbf0",
   "metadata": {},
   "source": [
    "# 각 yolov5 알고리즘에서 속도와 정확도 비교\n",
    "- batch 32 epochs 80"
   ]
  },
  {
   "cell_type": "code",
   "execution_count": null,
   "id": "1662022d",
   "metadata": {},
   "outputs": [],
   "source": [
    "python train.py --img 640 --batch 32 --epochs 80 --data ./data/coco128.yaml --cfg ./models/yolov5n.yaml --name fire_yolov5n_32_80"
   ]
  },
  {
   "cell_type": "code",
   "execution_count": null,
   "id": "e638ace8",
   "metadata": {},
   "outputs": [],
   "source": [
    "python train.py --img 640 --batch 32 --epochs 80 --data ./data/coco128.yaml --cfg ./models/yolov5s.yaml --name fire_yolov5s_32_80"
   ]
  },
  {
   "cell_type": "code",
   "execution_count": null,
   "id": "19eb7ffc",
   "metadata": {},
   "outputs": [],
   "source": [
    "python train.py --img 640 --batch 32 --epochs 80 --data ./data/coco128.yaml --cfg ./models/yolov5m.yaml --name fire_yolov5m_32_80"
   ]
  },
  {
   "cell_type": "code",
   "execution_count": null,
   "id": "cce785cc",
   "metadata": {},
   "outputs": [],
   "source": [
    "python train.py --img 640 --batch 32 --epochs 80 --data ./data/coco128.yaml --cfg ./models/yolov5l.yaml --name fire_yolov5l_32_80"
   ]
  },
  {
   "cell_type": "markdown",
   "id": "396d317a",
   "metadata": {},
   "source": [
    "# 각 yolov5 알고리즘에서 속도와 정확도 비교\n",
    "- batch 64 epochs 100"
   ]
  },
  {
   "cell_type": "code",
   "execution_count": null,
   "id": "7dd5fe76",
   "metadata": {},
   "outputs": [],
   "source": [
    "python train.py --img 640 --batch 64 --epochs 100 --data ./data/coco128.yaml --cfg ./models/yolov5n.yaml --name fire_yolov5n_64_100"
   ]
  },
  {
   "cell_type": "code",
   "execution_count": null,
   "id": "717d7744",
   "metadata": {},
   "outputs": [],
   "source": [
    "python train.py --img 640 --batch 64 --epochs 100 --data ./data/coco128.yaml --cfg ./models/yolov5s.yaml --name fire_yolov5s_64_100"
   ]
  },
  {
   "cell_type": "code",
   "execution_count": null,
   "id": "3f815ee5",
   "metadata": {},
   "outputs": [],
   "source": [
    "python train.py --img 640 --batch 64 --epochs 100 --data ./data/coco128.yaml --cfg ./models/yolov5m.yaml --name fire_yolov5m_64_100"
   ]
  },
  {
   "cell_type": "code",
   "execution_count": null,
   "id": "83592061",
   "metadata": {},
   "outputs": [],
   "source": [
    "python train.py --img 640 --batch 64 --epochs 100 --data ./data/coco128.yaml --cfg ./models/yolov5l.yaml --name fire_yolov5l_64_100"
   ]
  }
 ],
 "metadata": {
  "kernelspec": {
   "display_name": "Python 3 (ipykernel)",
   "language": "python",
   "name": "python3"
  },
  "language_info": {
   "codemirror_mode": {
    "name": "ipython",
    "version": 3
   },
   "file_extension": ".py",
   "mimetype": "text/x-python",
   "name": "python",
   "nbconvert_exporter": "python",
   "pygments_lexer": "ipython3",
   "version": "3.8.0"
  },
  "vscode": {
   "interpreter": {
    "hash": "c82fcd2077080289ee087ab34dec497c7baa214088f9b67c549e533062e0e681"
   }
  }
 },
 "nbformat": 4,
 "nbformat_minor": 5
}
