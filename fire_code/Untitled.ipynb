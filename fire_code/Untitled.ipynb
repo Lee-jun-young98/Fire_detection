{
 "cells": [
  {
   "cell_type": "code",
   "execution_count": 25,
   "id": "75ca4fa2",
   "metadata": {},
   "outputs": [],
   "source": [
    "import os"
   ]
  },
  {
   "cell_type": "code",
   "execution_count": 26,
   "id": "1a9b3c14",
   "metadata": {},
   "outputs": [
    {
     "data": {
      "text/plain": [
       "'D:\\\\fire_datasets\\\\Training'"
      ]
     },
     "execution_count": 26,
     "metadata": {},
     "output_type": "execute_result"
    }
   ],
   "source": [
    "os.getcwd()"
   ]
  },
  {
   "cell_type": "code",
   "execution_count": 27,
   "id": "2c3c0436",
   "metadata": {},
   "outputs": [
    {
     "name": "stdout",
     "output_type": "stream",
     "text": [
      "D:\\fire_datasets\\Training\n"
     ]
    }
   ],
   "source": [
    "%cd \"D:\\\\fire_datasets\\\\Training\""
   ]
  },
  {
   "cell_type": "code",
   "execution_count": 28,
   "id": "55b06e5b",
   "metadata": {},
   "outputs": [
    {
     "data": {
      "text/plain": [
       "'D:\\\\fire_datasets\\\\Training'"
      ]
     },
     "execution_count": 28,
     "metadata": {},
     "output_type": "execute_result"
    }
   ],
   "source": [
    "os.getcwd()"
   ]
  },
  {
   "cell_type": "code",
   "execution_count": 29,
   "id": "df01a866",
   "metadata": {
    "scrolled": true
   },
   "outputs": [
    {
     "data": {
      "text/plain": [
       "['[라벨]무관씬.zip', '[라벨]화재씬.zip', '[원천]무관씬.zip', '[원천]화재씬.zip', '[원천]화재씬_1.zip']"
      ]
     },
     "execution_count": 29,
     "metadata": {},
     "output_type": "execute_result"
    }
   ],
   "source": [
    "zip_list = os.listdir()\n",
    "zip_list"
   ]
  },
  {
   "cell_type": "code",
   "execution_count": 30,
   "id": "4c866d16",
   "metadata": {},
   "outputs": [
    {
     "data": {
      "text/plain": [
       "'[라벨]무관씬'"
      ]
     },
     "execution_count": 30,
     "metadata": {},
     "output_type": "execute_result"
    }
   ],
   "source": [
    "zip_list[0][:-4]"
   ]
  },
  {
   "cell_type": "code",
   "execution_count": 31,
   "id": "27d7bec9",
   "metadata": {},
   "outputs": [],
   "source": [
    "import zipfile"
   ]
  },
  {
   "cell_type": "code",
   "execution_count": 32,
   "id": "1d3052c7",
   "metadata": {},
   "outputs": [],
   "source": [
    "for i in zip_list:\n",
    "    with zipfile.ZipFile('D:\\\\fire_datasets\\\\Training\\\\' + i, 'r') as existing_zip:\n",
    "        existing_zip.extractall('D:\\\\fire_datasets\\\\Training\\\\' + i[:-4])"
   ]
  },
  {
   "cell_type": "code",
   "execution_count": 33,
   "id": "e58f75ef",
   "metadata": {},
   "outputs": [
    {
     "name": "stdout",
     "output_type": "stream",
     "text": [
      "D:\\fire_datasets\\Validation\n"
     ]
    }
   ],
   "source": [
    "%cd \"D:\\\\fire_datasets\\\\Validation\""
   ]
  },
  {
   "cell_type": "code",
   "execution_count": 34,
   "id": "7c4af3d3",
   "metadata": {},
   "outputs": [
    {
     "data": {
      "text/plain": [
       "['[라벨]1.화재씬.zip', '[라벨]3.무관씬.zip', '[원천]무관씬.zip', '[원천]화재씬.zip']"
      ]
     },
     "execution_count": 34,
     "metadata": {},
     "output_type": "execute_result"
    }
   ],
   "source": [
    "zip_list = os.listdir()\n",
    "zip_list"
   ]
  },
  {
   "cell_type": "code",
   "execution_count": 35,
   "id": "0b90b411",
   "metadata": {},
   "outputs": [],
   "source": [
    "for i in zip_list:\n",
    "    with zipfile.ZipFile('D:\\\\fire_datasets\\\\Validation\\\\' + i, 'r') as existing_zip:\n",
    "        existing_zip.extractall('D:\\\\fire_datasets\\\\Validation\\\\' + i[:-4])"
   ]
  },
  {
   "cell_type": "code",
   "execution_count": null,
   "id": "e157c1f6",
   "metadata": {},
   "outputs": [],
   "source": []
  }
 ],
 "metadata": {
  "kernelspec": {
   "display_name": "Python 3 (ipykernel)",
   "language": "python",
   "name": "python3"
  },
  "language_info": {
   "codemirror_mode": {
    "name": "ipython",
    "version": 3
   },
   "file_extension": ".py",
   "mimetype": "text/x-python",
   "name": "python",
   "nbconvert_exporter": "python",
   "pygments_lexer": "ipython3",
   "version": "3.10.4"
  }
 },
 "nbformat": 4,
 "nbformat_minor": 5
}
