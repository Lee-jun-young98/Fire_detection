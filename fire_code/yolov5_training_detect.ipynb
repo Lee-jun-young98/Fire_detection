{
 "cells": [
  {
   "cell_type": "code",
   "execution_count": 1,
   "id": "e84ef5c6",
   "metadata": {},
   "outputs": [
    {
     "name": "stdout",
     "output_type": "stream",
     "text": [
      "D:\\yolov5-master\\yolov5-master\n"
     ]
    }
   ],
   "source": [
    "%cd D:\\yolov5-master\\yolov5-master"
   ]
  },
  {
   "cell_type": "code",
   "execution_count": 2,
   "id": "807c33e3",
   "metadata": {
    "scrolled": true
   },
   "outputs": [
    {
     "name": "stderr",
     "output_type": "stream",
     "text": [
      "C:\\Users\\f\\anaconda3\\envs\\newyolov5\\lib\\site-packages\\tqdm\\auto.py:22: TqdmWarning: IProgress not found. Please update jupyter and ipywidgets. See https://ipywidgets.readthedocs.io/en/stable/user_install.html\n",
      "  from .autonotebook import tqdm as notebook_tqdm\n"
     ]
    }
   ],
   "source": [
    "import torch\n",
    "import utils"
   ]
  },
  {
   "cell_type": "code",
   "execution_count": 3,
   "id": "4c599923",
   "metadata": {},
   "outputs": [
    {
     "data": {
      "text/plain": [
       "True"
      ]
     },
     "execution_count": 3,
     "metadata": {},
     "output_type": "execute_result"
    }
   ],
   "source": [
    "torch.cuda.is_available()"
   ]
  },
  {
   "cell_type": "code",
   "execution_count": 5,
   "id": "f994474c",
   "metadata": {},
   "outputs": [
    {
     "name": "stdout",
     "output_type": "stream",
     "text": [
      "^C\n"
     ]
    }
   ],
   "source": [
    "!python train.py --img 640 --batch 16 --epochs 50 --data coco128.yaml --weights yolov5s.pt --cache"
   ]
  },
  {
   "cell_type": "code",
   "execution_count": 7,
   "id": "18e3988d",
   "metadata": {},
   "outputs": [
    {
     "name": "stderr",
     "output_type": "stream",
     "text": [
      "\u001b[34m\u001b[1mdetect: \u001b[0mweights=['./runs/train/exp18/weights/best.pt'], source=./data/images/val/images, data=data\\coco128.yaml, imgsz=[416, 416], conf_thres=0.5, iou_thres=0.45, max_det=1000, device=, view_img=False, save_txt=False, save_conf=False, save_crop=False, nosave=False, classes=None, agnostic_nms=False, augment=False, visualize=False, update=False, project=runs\\detect, name=exp, exist_ok=False, line_thickness=3, hide_labels=False, hide_conf=False, half=False, dnn=False\n",
      "YOLOv5  2022-7-8 Python-3.8.0 torch-1.11.0 CUDA:0 (NVIDIA GeForce RTX 2080 Ti, 11264MiB)\n",
      "\n",
      "Fusing layers... \n",
      "Model summary: 213 layers, 7012822 parameters, 0 gradients, 15.8 GFLOPs\n",
      "image 1/150 D:\\yolov5-master\\yolov5-master\\data\\images\\val\\images\\0.jpg: 320x416 2 fires, Done. (0.012s)\n",
      "image 2/150 D:\\yolov5-master\\yolov5-master\\data\\images\\val\\images\\0016f8c09384627e.jpg: 320x416 1 fire, Done. (0.008s)\n",
      "image 3/150 D:\\yolov5-master\\yolov5-master\\data\\images\\val\\images\\004dec94c5de631f.jpg: 320x416 1 fire, Done. (0.008s)\n",
      "image 4/150 D:\\yolov5-master\\yolov5-master\\data\\images\\val\\images\\00c3cfc7c51ff6fe.jpg: 256x416 1 fire, Done. (0.012s)\n",
      "image 5/150 D:\\yolov5-master\\yolov5-master\\data\\images\\val\\images\\00c47fd544a835eb.jpg: 320x416 Done. (0.008s)\n",
      "image 6/150 D:\\yolov5-master\\yolov5-master\\data\\images\\val\\images\\00f7f7cb6aa899f1.jpg: 416x416 1 fire, Done. (0.008s)\n",
      "image 7/150 D:\\yolov5-master\\yolov5-master\\data\\images\\val\\images\\01ac2c5a9adf2e6e.jpg: 288x416 1 fire, Done. (0.011s)\n",
      "image 8/150 D:\\yolov5-master\\yolov5-master\\data\\images\\val\\images\\01caa692ef579e1c.jpg: 288x416 1 fire, Done. (0.008s)\n",
      "image 9/150 D:\\yolov5-master\\yolov5-master\\data\\images\\val\\images\\034fbe98bf4a2eee.jpg: 416x416 1 fire, Done. (0.008s)\n",
      "image 10/150 D:\\yolov5-master\\yolov5-master\\data\\images\\val\\images\\04c5e393c1a3f1db.jpg: 320x416 2 fires, Done. (0.008s)\n",
      "image 11/150 D:\\yolov5-master\\yolov5-master\\data\\images\\val\\images\\04f66b3d61972145.jpg: 320x416 1 fire, Done. (0.008s)\n",
      "image 12/150 D:\\yolov5-master\\yolov5-master\\data\\images\\val\\images\\05ee352c12bfb6d5.jpg: 416x416 1 fire, Done. (0.008s)\n",
      "image 13/150 D:\\yolov5-master\\yolov5-master\\data\\images\\val\\images\\07c3aeecc263ff2c.jpg: 416x416 1 fire, Done. (0.008s)\n",
      "image 14/150 D:\\yolov5-master\\yolov5-master\\data\\images\\val\\images\\07e90d35025536d7.jpg: 320x416 1 fire, Done. (0.008s)\n",
      "image 15/150 D:\\yolov5-master\\yolov5-master\\data\\images\\val\\images\\07fd40009fdfeb94.jpg: 288x416 1 fire, Done. (0.008s)\n",
      "image 16/150 D:\\yolov5-master\\yolov5-master\\data\\images\\val\\images\\08e6bd8d7728eed8.jpg: 320x416 Done. (0.008s)\n",
      "image 17/150 D:\\yolov5-master\\yolov5-master\\data\\images\\val\\images\\08e73c1800e2cef2.jpg: 288x416 1 fire, Done. (0.008s)\n",
      "image 18/150 D:\\yolov5-master\\yolov5-master\\data\\images\\val\\images\\0_car-fire-m25-pic.jpg: 384x416 1 fire, Done. (0.012s)\n",
      "image 19/150 D:\\yolov5-master\\yolov5-master\\data\\images\\val\\images\\0a5be8a754f3e11c.jpg: 416x416 1 fire, Done. (0.008s)\n",
      "image 20/150 D:\\yolov5-master\\yolov5-master\\data\\images\\val\\images\\0cd656f34b9411f3.jpg: 288x416 1 fire, Done. (0.008s)\n",
      "image 21/150 D:\\yolov5-master\\yolov5-master\\data\\images\\val\\images\\0d1db917073dd5b8.jpg: 416x352 1 fire, Done. (0.012s)\n",
      "image 22/150 D:\\yolov5-master\\yolov5-master\\data\\images\\val\\images\\0d408c4c731cc892.jpg: 320x416 1 fire, Done. (0.009s)\n",
      "image 23/150 D:\\yolov5-master\\yolov5-master\\data\\images\\val\\images\\0d4b3896f938d981.jpg: 288x416 Done. (0.009s)\n",
      "image 24/150 D:\\yolov5-master\\yolov5-master\\data\\images\\val\\images\\0d83db8e97be246b.jpg: 320x416 1 fire, Done. (0.008s)\n",
      "image 25/150 D:\\yolov5-master\\yolov5-master\\data\\images\\val\\images\\1 - Copy.jpg: 256x416 2 fires, Done. (0.008s)\n",
      "image 26/150 D:\\yolov5-master\\yolov5-master\\data\\images\\val\\images\\1.ZhouPlantBlaze090415_0.jpg: 288x416 2 fires, Done. (0.008s)\n",
      "image 27/150 D:\\yolov5-master\\yolov5-master\\data\\images\\val\\images\\10.5114140_013119-wabc-elmwood-park-fire-new-closer-img.jpg: 256x416 1 fire, Done. (0.008s)\n",
      "image 28/150 D:\\yolov5-master\\yolov5-master\\data\\images\\val\\images\\10.image.jpg: 288x416 1 fire, Done. (0.008s)\n",
      "image 29/150 D:\\yolov5-master\\yolov5-master\\data\\images\\val\\images\\10a4234031144d02.jpg: 320x416 1 fire, Done. (0.009s)\n",
      "image 30/150 D:\\yolov5-master\\yolov5-master\\data\\images\\val\\images\\11._106638522_capt324ure.jpg: 416x416 3 fires, Done. (0.009s)\n",
      "image 31/150 D:\\yolov5-master\\yolov5-master\\data\\images\\val\\images\\11b37e98ca39f9d7.jpg: 320x416 1 fire, Done. (0.008s)\n",
      "image 32/150 D:\\yolov5-master\\yolov5-master\\data\\images\\val\\images\\11c7a2291618326b.jpg: 256x416 1 fire, Done. (0.008s)\n",
      "image 33/150 D:\\yolov5-master\\yolov5-master\\data\\images\\val\\images\\12.factory_fire.jpg: 320x416 1 fire, Done. (0.009s)\n",
      "image 34/150 D:\\yolov5-master\\yolov5-master\\data\\images\\val\\images\\12.recycling-plant-fire_AC30218x.jpg: 288x416 1 fire, Done. (0.008s)\n",
      "image 35/150 D:\\yolov5-master\\yolov5-master\\data\\images\\val\\images\\13.791118-naraina-factory.jpg: 256x416 1 fire, Done. (0.008s)\n",
      "image 36/150 D:\\yolov5-master\\yolov5-master\\data\\images\\val\\images\\14.zhangzhou-chemical-plant-fire.jpg: 288x416 2 fires, Done. (0.008s)\n",
      "image 37/150 D:\\yolov5-master\\yolov5-master\\data\\images\\val\\images\\15.Firefighters-try-to-extinguish-a-fire-at-a-petrochemical-plant-in-Zhangzhou.jpg: 288x416 1 fire, Done. (0.008s)\n",
      "image 38/150 D:\\yolov5-master\\yolov5-master\\data\\images\\val\\images\\15._89625627_fire2.jpg: 416x416 1 fire, Done. (0.008s)\n",
      "image 39/150 D:\\yolov5-master\\yolov5-master\\data\\images\\val\\images\\15.jpg: 256x416 1 fire, Done. (0.008s)\n",
      "image 40/150 D:\\yolov5-master\\yolov5-master\\data\\images\\val\\images\\16 - Copy.jpg: 320x416 8 fires, Done. (0.009s)\n",
      "image 41/150 D:\\yolov5-master\\yolov5-master\\data\\images\\val\\images\\16dfd39c79bafc96.jpg: 416x320 1 fire, Done. (0.012s)\n",
      "image 42/150 D:\\yolov5-master\\yolov5-master\\data\\images\\val\\images\\17 - Copy.jpg: 384x416 2 fires, Done. (0.009s)\n",
      "image 43/150 D:\\yolov5-master\\yolov5-master\\data\\images\\val\\images\\17aa164614faa98e.jpg: 320x416 1 fire, Done. (0.008s)\n",
      "image 44/150 D:\\yolov5-master\\yolov5-master\\data\\images\\val\\images\\17bfc35f00d47253.jpg: 416x320 1 fire, Done. (0.008s)\n",
      "image 45/150 D:\\yolov5-master\\yolov5-master\\data\\images\\val\\images\\17ca5caed98d4859.jpg: 416x416 1 fire, Done. (0.008s)\n",
      "image 46/150 D:\\yolov5-master\\yolov5-master\\data\\images\\val\\images\\18.major-fire_8fc41e24-e34c-11e7-8c02-0f57a5c79e45.jpg: 256x416 1 fire, Done. (0.008s)\n",
      "image 47/150 D:\\yolov5-master\\yolov5-master\\data\\images\\val\\images\\19 - Copy.jpg: 288x416 1 fire, Done. (0.008s)\n",
      "image 48/150 D:\\yolov5-master\\yolov5-master\\data\\images\\val\\images\\19.920x920.jpg: 256x416 1 fire, Done. (0.008s)\n",
      "image 49/150 D:\\yolov5-master\\yolov5-master\\data\\images\\val\\images\\19.jpg: 256x416 1 fire, Done. (0.008s)\n",
      "image 50/150 D:\\yolov5-master\\yolov5-master\\data\\images\\val\\images\\1a228a4049efc30e.jpg: 288x416 1 fire, Done. (0.009s)\n",
      "image 51/150 D:\\yolov5-master\\yolov5-master\\data\\images\\val\\images\\1af3a5ba46045369.jpg: 320x416 1 fire, Done. (0.009s)\n",
      "image 52/150 D:\\yolov5-master\\yolov5-master\\data\\images\\val\\images\\1c0bc2967cf87b27.jpg: 416x320 1 fire, Done. (0.008s)\n",
      "image 53/150 D:\\yolov5-master\\yolov5-master\\data\\images\\val\\images\\1c15929e31f4ff7f.jpg: 288x416 1 fire, Done. (0.009s)\n",
      "image 54/150 D:\\yolov5-master\\yolov5-master\\data\\images\\val\\images\\1cfee6d9ce202801.jpg: 416x320 1 fire, Done. (0.008s)\n",
      "image 55/150 D:\\yolov5-master\\yolov5-master\\data\\images\\val\\images\\1d0caf874fcada77.jpg: 288x416 1 fire, Done. (0.008s)\n",
      "image 56/150 D:\\yolov5-master\\yolov5-master\\data\\images\\val\\images\\1f990b331e554127.jpg: 416x416 1 fire, Done. (0.008s)\n",
      "image 57/150 D:\\yolov5-master\\yolov5-master\\data\\images\\val\\images\\2.759728-fire-in-ipcl-plant-113018.jpg: 256x416 2 fires, Done. (0.008s)\n",
      "image 58/150 D:\\yolov5-master\\yolov5-master\\data\\images\\val\\images\\2.jpg: 256x416 Done. (0.008s)\n",
      "image 59/150 D:\\yolov5-master\\yolov5-master\\data\\images\\val\\images\\20 - Copy.jpg: 416x416 1 fire, Done. (0.008s)\n",
      "image 60/150 D:\\yolov5-master\\yolov5-master\\data\\images\\val\\images\\20.0521_jawali_fire.jpg: 320x416 2 fires, Done. (0.009s)\n",
      "image 61/150 D:\\yolov5-master\\yolov5-master\\data\\images\\val\\images\\20.jpg: 288x416 1 fire, Done. (0.008s)\n",
      "image 62/150 D:\\yolov5-master\\yolov5-master\\data\\images\\val\\images\\20b4257627ea36d7.jpg: 288x416 1 fire, Done. (0.007s)\n",
      "image 63/150 D:\\yolov5-master\\yolov5-master\\data\\images\\val\\images\\22 - Copy.jpg: 288x416 3 fires, Done. (0.008s)\n",
      "image 64/150 D:\\yolov5-master\\yolov5-master\\data\\images\\val\\images\\22a233ad0c0aec8d.jpg: 320x416 1 fire, Done. (0.008s)\n",
      "image 65/150 D:\\yolov5-master\\yolov5-master\\data\\images\\val\\images\\23.jpg: 256x416 1 fire, Done. (0.009s)\n",
      "image 66/150 D:\\yolov5-master\\yolov5-master\\data\\images\\val\\images\\23d49c1d550c4c8b.jpg: 320x416 1 fire, Done. (0.008s)\n",
      "image 67/150 D:\\yolov5-master\\yolov5-master\\data\\images\\val\\images\\24 - Copy.jpg: 320x416 1 fire, Done. (0.008s)\n",
      "image 68/150 D:\\yolov5-master\\yolov5-master\\data\\images\\val\\images\\25 - Copy.jpg: 320x416 1 fire, Done. (0.008s)\n",
      "image 69/150 D:\\yolov5-master\\yolov5-master\\data\\images\\val\\images\\26 - Copy.jpg: 288x416 1 fire, Done. (0.008s)\n",
      "image 70/150 D:\\yolov5-master\\yolov5-master\\data\\images\\val\\images\\26.KTRK-arkema-plant-burning-01-ktrk-jc-170901_4x3_992.jpg: 320x416 1 fire, Done. (0.008s)\n",
      "image 71/150 D:\\yolov5-master\\yolov5-master\\data\\images\\val\\images\\28 - Copy.jpg: 320x416 4 fires, Done. (0.008s)\n",
      "image 72/150 D:\\yolov5-master\\yolov5-master\\data\\images\\val\\images\\28.190226_wn_perez_640_hpMain_16x9_992.jpg: 256x416 1 fire, Done. (0.008s)\n",
      "image 73/150 D:\\yolov5-master\\yolov5-master\\data\\images\\val\\images\\2b62db8aba137650.jpg: 320x416 Done. (0.008s)\n",
      "image 74/150 D:\\yolov5-master\\yolov5-master\\data\\images\\val\\images\\2c90ee49cc3d59b8.jpg: 320x416 1 fire, Done. (0.008s)\n",
      "image 75/150 D:\\yolov5-master\\yolov5-master\\data\\images\\val\\images\\2cc7178e9b3288b5.jpg: 416x288 1 fire, Done. (0.012s)\n",
      "image 76/150 D:\\yolov5-master\\yolov5-master\\data\\images\\val\\images\\2d30fdc58f112046.jpg: 416x288 1 fire, Done. (0.007s)\n",
      "image 77/150 D:\\yolov5-master\\yolov5-master\\data\\images\\val\\images\\31 - Copy.jpg: 288x416 2 fires, Done. (0.008s)\n",
      "image 78/150 D:\\yolov5-master\\yolov5-master\\data\\images\\val\\images\\31.WAG4ECGFHFDBRJPYWCUGXANN5U.jpg: 416x320 Done. (0.008s)\n",
      "image 79/150 D:\\yolov5-master\\yolov5-master\\data\\images\\val\\images\\31a43b1989380597.jpg: 320x416 1 fire, Done. (0.009s)\n",
      "image 80/150 D:\\yolov5-master\\yolov5-master\\data\\images\\val\\images\\31d4045ca4d5e0e9.jpg: 320x416 1 fire, Done. (0.008s)\n",
      "image 81/150 D:\\yolov5-master\\yolov5-master\\data\\images\\val\\images\\32 - Copy.jpg: 128x416 3 fires, Done. (0.012s)\n",
      "image 82/150 D:\\yolov5-master\\yolov5-master\\data\\images\\val\\images\\32.Chemical_Plant_Fire_61684-780x520.jpg: 288x416 Done. (0.011s)\n",
      "image 83/150 D:\\yolov5-master\\yolov5-master\\data\\images\\val\\images\\32.fire-in-kampong-cham.jpg: 288x416 1 fire, Done. (0.010s)\n",
      "image 84/150 D:\\yolov5-master\\yolov5-master\\data\\images\\val\\images\\33.750417-chemical-factory-fire.jpg: 256x416 2 fires, Done. (0.011s)\n",
      "image 85/150 D:\\yolov5-master\\yolov5-master\\data\\images\\val\\images\\34 - Copy.jpg: 320x416 2 fires, Done. (0.011s)\n",
      "image 86/150 D:\\yolov5-master\\yolov5-master\\data\\images\\val\\images\\34.fire-warehouse-malviya-nagar-new-delhi-india_40c315e0-6363-11e8-b4a9-2154dcd09999.jpg: 256x416 1 fire, Done. (0.011s)\n",
      "image 87/150 D:\\yolov5-master\\yolov5-master\\data\\images\\val\\images\\36 - Copy.jpg: 288x416 3 fires, Done. (0.011s)\n",
      "image 88/150 D:\\yolov5-master\\yolov5-master\\data\\images\\val\\images\\36.plant-fire.jpg: 256x416 1 fire, Done. (0.011s)\n",
      "image 89/150 D:\\yolov5-master\\yolov5-master\\data\\images\\val\\images\\36a94f02266d3105.jpg: 320x416 Done. (0.011s)\n",
      "image 90/150 D:\\yolov5-master\\yolov5-master\\data\\images\\val\\images\\37 - Copy.jpg: 320x416 1 fire, Done. (0.012s)\n",
      "image 91/150 D:\\yolov5-master\\yolov5-master\\data\\images\\val\\images\\37.APTOPIX-Petrochemical-Fire-Texas-1-1553128135.jpg: 320x416 3 fires, Done. (0.012s)\n",
      "image 92/150 D:\\yolov5-master\\yolov5-master\\data\\images\\val\\images\\37fb2b542c71601c.jpg: 416x320 1 fire, Done. (0.012s)\n",
      "image 93/150 D:\\yolov5-master\\yolov5-master\\data\\images\\val\\images\\38.769486-kandivali-fire-garment-factory.jpg: 256x416 Done. (0.011s)\n",
      "image 94/150 D:\\yolov5-master\\yolov5-master\\data\\images\\val\\images\\39.555669219_1140x641.jpg: 256x416 1 fire, Done. (0.012s)\n",
      "image 95/150 D:\\yolov5-master\\yolov5-master\\data\\images\\val\\images\\39a8b37f5f60a87e.jpg: 288x416 1 fire, Done. (0.011s)\n",
      "image 96/150 D:\\yolov5-master\\yolov5-master\\data\\images\\val\\images\\3a0e6337cd0621b2.jpg: 320x416 1 fire, Done. (0.012s)\n",
      "image 97/150 D:\\yolov5-master\\yolov5-master\\data\\images\\val\\images\\3d179dfa2b45d219.jpg: 320x416 1 fire, Done. (0.011s)\n",
      "image 98/150 D:\\yolov5-master\\yolov5-master\\data\\images\\val\\images\\3d21e8c3f315da3b.jpg: 416x416 1 fire, Done. (0.013s)\n",
      "image 99/150 D:\\yolov5-master\\yolov5-master\\data\\images\\val\\images\\3d3928b4132604b7.jpg: 416x288 1 fire, Done. (0.011s)\n",
      "image 100/150 D:\\yolov5-master\\yolov5-master\\data\\images\\val\\images\\3d4b7b054fa14161.jpg: 352x416 1 fire, Done. (0.018s)\n",
      "image 101/150 D:\\yolov5-master\\yolov5-master\\data\\images\\val\\images\\3dec8e1a349fefac.jpg: 416x320 1 fire, Done. (0.015s)\n",
      "image 102/150 D:\\yolov5-master\\yolov5-master\\data\\images\\val\\images\\3f4d12195722201c.jpg: 288x416 1 fire, Done. (0.015s)\n",
      "image 103/150 D:\\yolov5-master\\yolov5-master\\data\\images\\val\\images\\41 - Copy.jpg: 320x416 1 fire, Done. (0.015s)\n",
      "image 104/150 D:\\yolov5-master\\yolov5-master\\data\\images\\val\\images\\41.thumbnailimage.img.jpg: 256x416 6 fires, Done. (0.015s)\n",
      "image 105/150 D:\\yolov5-master\\yolov5-master\\data\\images\\val\\images\\42 - Copy.jpg: 288x416 1 fire, Done. (0.015s)\n",
      "image 106/150 D:\\yolov5-master\\yolov5-master\\data\\images\\val\\images\\42.0521_firechemical.jpg: 352x416 1 fire, Done. (0.016s)\n",
      "image 107/150 D:\\yolov5-master\\yolov5-master\\data\\images\\val\\images\\42f1a87b2657dad0.jpg: 320x416 1 fire, Done. (0.015s)\n",
      "image 108/150 D:\\yolov5-master\\yolov5-master\\data\\images\\val\\images\\43 - Copy.jpg: 288x416 1 fire, Done. (0.016s)\n",
      "image 109/150 D:\\yolov5-master\\yolov5-master\\data\\images\\val\\images\\44 - Copy.jpg: 352x416 5 fires, Done. (0.016s)\n",
      "image 110/150 D:\\yolov5-master\\yolov5-master\\data\\images\\val\\images\\44.jpg: 192x416 1 fire, Done. (0.016s)\n",
      "image 111/150 D:\\yolov5-master\\yolov5-master\\data\\images\\val\\images\\44f952abf96dfdb5.jpg: 288x416 1 fire, Done. (0.015s)\n",
      "image 112/150 D:\\yolov5-master\\yolov5-master\\data\\images\\val\\images\\45.FIRE-IN-FACTORY.jpg: 352x416 1 fire, Done. (0.016s)\n",
      "image 113/150 D:\\yolov5-master\\yolov5-master\\data\\images\\val\\images\\46 - Copy.jpg: 288x416 1 fire, Done. (0.015s)\n",
      "image 114/150 D:\\yolov5-master\\yolov5-master\\data\\images\\val\\images\\47 - Copy.jpg: 288x416 1 fire, Done. (0.015s)\n",
      "image 115/150 D:\\yolov5-master\\yolov5-master\\data\\images\\val\\images\\47.jpg: 288x416 2 fires, Done. (0.015s)\n",
      "image 116/150 D:\\yolov5-master\\yolov5-master\\data\\images\\val\\images\\48 - Copy.jpg: 416x320 1 fire, Done. (0.015s)\n",
      "image 117/150 D:\\yolov5-master\\yolov5-master\\data\\images\\val\\images\\48.jpg: 288x416 Done. (0.015s)\n",
      "image 118/150 D:\\yolov5-master\\yolov5-master\\data\\images\\val\\images\\49.thumbnailimage.img.jpg: 256x416 6 fires, Done. (0.014s)\n",
      "image 119/150 D:\\yolov5-master\\yolov5-master\\data\\images\\val\\images\\4bbeb752b70702a7.jpg: 320x416 1 fire, Done. (0.015s)\n",
      "image 120/150 D:\\yolov5-master\\yolov5-master\\data\\images\\val\\images\\4f367c02abb0d3ca.jpg: 288x416 Done. (0.015s)\n",
      "image 121/150 D:\\yolov5-master\\yolov5-master\\data\\images\\val\\images\\5 - Copy.jpg: 288x416 3 fires, Done. (0.015s)\n",
      "image 122/150 D:\\yolov5-master\\yolov5-master\\data\\images\\val\\images\\5.jpg: 256x416 1 fire, Done. (0.015s)\n",
      "image 123/150 D:\\yolov5-master\\yolov5-master\\data\\images\\val\\images\\5e1783b16e3eaee2.jpg: 416x416 1 fire, Done. (0.016s)\n",
      "image 124/150 D:\\yolov5-master\\yolov5-master\\data\\images\\val\\images\\5f01e1d126669378.jpg: 416x320 1 fire, Done. (0.015s)\n",
      "image 125/150 D:\\yolov5-master\\yolov5-master\\data\\images\\val\\images\\5f1a62b92753c988.jpg: 320x416 1 fire, Done. (0.015s)\n",
      "image 126/150 D:\\yolov5-master\\yolov5-master\\data\\images\\val\\images\\6.article-0-0D2D897300000578-72_964x582.jpg: 256x416 1 fire, Done. (0.014s)\n",
      "image 127/150 D:\\yolov5-master\\yolov5-master\\data\\images\\val\\images\\6a085bfcc9969ac9.jpg: 416x320 1 fire, Done. (0.015s)\n",
      "image 128/150 D:\\yolov5-master\\yolov5-master\\data\\images\\val\\images\\6c03acbd11f6e2be.jpg: 288x416 1 fire, Done. (0.014s)\n",
      "image 129/150 D:\\yolov5-master\\yolov5-master\\data\\images\\val\\images\\6cdc997b535e2641.jpg: 288x416 1 fire, Done. (0.015s)\n",
      "image 130/150 D:\\yolov5-master\\yolov5-master\\data\\images\\val\\images\\6d4bf5e754d8cdc2.jpg: 416x416 1 fire, Done. (0.017s)\n",
      "image 131/150 D:\\yolov5-master\\yolov5-master\\data\\images\\val\\images\\7 - Copy.jpg: 320x416 1 fire, Done. (0.015s)\n",
      "image 132/150 D:\\yolov5-master\\yolov5-master\\data\\images\\val\\images\\7.190320_gma_gonzalez2_0706_hpMain_16x9_992.jpg: 256x416 3 fires, Done. (0.015s)\n",
      "image 133/150 D:\\yolov5-master\\yolov5-master\\data\\images\\val\\images\\7.rubberfactory_woonsocket.jpg: 320x416 1 fire, Done. (0.015s)\n",
      "image 134/150 D:\\yolov5-master\\yolov5-master\\data\\images\\val\\images\\7a5d6d5c7f72d7eb.jpg: 416x352 2 fires, Done. (0.015s)\n",
      "image 135/150 D:\\yolov5-master\\yolov5-master\\data\\images\\val\\images\\7aa5fb15e11e9c74.jpg: 320x416 1 fire, Done. (0.015s)\n",
      "image 136/150 D:\\yolov5-master\\yolov5-master\\data\\images\\val\\images\\7c4ce9b7676cfbc4.jpg: 416x416 1 fire, Done. (0.016s)\n",
      "image 137/150 D:\\yolov5-master\\yolov5-master\\data\\images\\val\\images\\7c73e718948fa89d.jpg: 320x416 Done. (0.015s)\n",
      "image 138/150 D:\\yolov5-master\\yolov5-master\\data\\images\\val\\images\\7d9332b0a52c357a.jpg: 288x416 Done. (0.015s)\n",
      "image 139/150 D:\\yolov5-master\\yolov5-master\\data\\images\\val\\images\\7ee072049f2c7883.jpg: 416x416 1 fire, Done. (0.017s)\n",
      "image 140/150 D:\\yolov5-master\\yolov5-master\\data\\images\\val\\images\\8.5203627_firenewtn.jpg: 256x416 3 fires, Done. (0.015s)\n",
      "image 141/150 D:\\yolov5-master\\yolov5-master\\data\\images\\val\\images\\8.jpg: 288x416 1 fire, Done. (0.014s)\n",
      "image 142/150 D:\\yolov5-master\\yolov5-master\\data\\images\\val\\images\\8a8dbe592f008e40.jpg: 288x416 2 fires, Done. (0.014s)\n",
      "image 143/150 D:\\yolov5-master\\yolov5-master\\data\\images\\val\\images\\8a90333c0cf4d06a.jpg: 320x416 1 fire, Done. (0.015s)\n",
      "image 144/150 D:\\yolov5-master\\yolov5-master\\data\\images\\val\\images\\8ac431f568fc5228.jpg: 416x320 1 fire, Done. (0.015s)\n",
      "image 145/150 D:\\yolov5-master\\yolov5-master\\data\\images\\val\\images\\9.poster-3.jpg: 256x416 1 fire, Done. (0.015s)\n",
      "image 146/150 D:\\yolov5-master\\yolov5-master\\data\\images\\val\\images\\9db60ec1aa0b5674.jpg: 320x416 1 fire, Done. (0.016s)\n",
      "image 147/150 D:\\yolov5-master\\yolov5-master\\data\\images\\val\\images\\9edfa7b15338c084.jpg: 416x416 1 fire, Done. (0.017s)\n",
      "image 148/150 D:\\yolov5-master\\yolov5-master\\data\\images\\val\\images\\9f9ce1b68c0b034c.jpg: 384x416 1 fire, Done. (0.017s)\n",
      "image 149/150 D:\\yolov5-master\\yolov5-master\\data\\images\\val\\images\\9fa6a4c99c66afbe.jpg: 416x288 1 fire, Done. (0.015s)\n",
      "image 150/150 D:\\yolov5-master\\yolov5-master\\data\\images\\val\\images\\9fc613747c351f6b.jpg: 256x416 1 fire, Done. (0.015s)\n",
      "Speed: 0.6ms pre-process, 11.1ms inference, 1.2ms NMS per image at shape (1, 3, 416, 416)\n",
      "Results saved to \u001b[1mruns\\detect\\exp6\u001b[0m\n"
     ]
    }
   ],
   "source": [
    "!python detect.py --weights ./runs/train/exp18/weights/best.pt --img 416 --conf 0.5 --source ./data/images/val/images"
   ]
  },
  {
   "cell_type": "code",
   "execution_count": null,
   "id": "f7ee62b8",
   "metadata": {},
   "outputs": [],
   "source": []
  }
 ],
 "metadata": {
  "kernelspec": {
   "display_name": "Python 3 (ipykernel)",
   "language": "python",
   "name": "python3"
  },
  "language_info": {
   "codemirror_mode": {
    "name": "ipython",
    "version": 3
   },
   "file_extension": ".py",
   "mimetype": "text/x-python",
   "name": "python",
   "nbconvert_exporter": "python",
   "pygments_lexer": "ipython3",
   "version": "3.8.0"
  }
 },
 "nbformat": 4,
 "nbformat_minor": 5
}
