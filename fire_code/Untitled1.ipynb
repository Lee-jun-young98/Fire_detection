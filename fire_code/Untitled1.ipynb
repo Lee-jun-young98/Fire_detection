{
 "cells": [
  {
   "cell_type": "code",
   "execution_count": 1,
   "id": "d6dee268",
   "metadata": {},
   "outputs": [
    {
     "name": "stdout",
     "output_type": "stream",
     "text": [
      "C:\\yolov5-master\\yolov5-master\n"
     ]
    }
   ],
   "source": [
    "%cd \"C:\\yolov5-master\\yolov5-master\""
   ]
  },
  {
   "cell_type": "code",
   "execution_count": 2,
   "id": "0540e988",
   "metadata": {},
   "outputs": [],
   "source": [
    "import os\n",
    "\n",
    "os.getcwd()\n",
    "os.environ[\"KMP_DUPLICATE_LIB_OK\"]=\"TRUE\""
   ]
  },
  {
   "cell_type": "code",
   "execution_count": null,
   "id": "c110a675",
   "metadata": {},
   "outputs": [],
   "source": [
    "python train.py --img 640 --batch 16 --epochs 10 --data C:\\yolov5-master\\yolov5-master\\data\\datasets.yml --cfg C:\\\\yolov5-master\\\\yolov5-master\\\\models\\\\yolov5s.yaml --weights yolov5s.pt --name fire_yo"
   ]
  },
  {
   "cell_type": "code",
   "execution_count": null,
   "id": "a1eba4ed",
   "metadata": {},
   "outputs": [],
   "source": []
  }
 ],
 "metadata": {
  "kernelspec": {
   "display_name": "Python 3 (ipykernel)",
   "language": "python",
   "name": "python3"
  },
  "language_info": {
   "codemirror_mode": {
    "name": "ipython",
    "version": 3
   },
   "file_extension": ".py",
   "mimetype": "text/x-python",
   "name": "python",
   "nbconvert_exporter": "python",
   "pygments_lexer": "ipython3",
   "version": "3.9.12"
  }
 },
 "nbformat": 4,
 "nbformat_minor": 5
}
